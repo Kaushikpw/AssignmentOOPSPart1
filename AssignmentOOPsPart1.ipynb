{
 "cells": [
  {
   "cell_type": "code",
   "execution_count": 3,
   "id": "bdfe679e-c123-4aef-a05d-3ae61a22d0ef",
   "metadata": {},
   "outputs": [],
   "source": [
    "#Q1. Explain Class and Object with respect to Object-Oriented Programming. Give a suitable example.\n",
    "#Ans.:\n",
    "#Object: An Object is a real world entity. An Object is an instance of a class.\n",
    "#Using programming we can mimic the real world objects by assigning a combination of attributes,\n",
    "#what an object is or has and methods what an object can do.\n",
    "#Class: A class can function as a blue print that will describe what attributes and methods that are destinct type of objects we'll have.\n",
    "#Attributes = is/has\n",
    "#example: name, age, height\n",
    "class pwskills:\n",
    "    \n",
    "    def welcome_msg(self):\n",
    "        print(\"Welcome to pwskills\")\n",
    "        \n"
   ]
  },
  {
   "cell_type": "code",
   "execution_count": 7,
   "id": "ea008563-3446-4493-8050-6fade0f8da9b",
   "metadata": {},
   "outputs": [],
   "source": [
    "rohan = pwskills()\n",
    "#variable of class pwskills() is rohan."
   ]
  },
  {
   "cell_type": "code",
   "execution_count": 8,
   "id": "cbd1684a-297a-402c-ba55-a4739e5b3964",
   "metadata": {},
   "outputs": [
    {
     "name": "stdout",
     "output_type": "stream",
     "text": [
      "Welcome to pwskills\n"
     ]
    }
   ],
   "source": [
    "rohan.welcome_msg()"
   ]
  },
  {
   "cell_type": "code",
   "execution_count": 9,
   "id": "54ca0a23-0685-43ab-8ef7-c34f51b41a27",
   "metadata": {},
   "outputs": [],
   "source": [
    "#Q2. Name the four pillars of OOPs.\n",
    "#Ans.: The 4 pillars of OOPs concepts in python are Inheritance, Polymorphism, Encapsulation, and Abstraction."
   ]
  },
  {
   "cell_type": "code",
   "execution_count": 10,
   "id": "0ca94429-94a3-4dfe-8329-7be4eedb64a4",
   "metadata": {},
   "outputs": [],
   "source": [
    "#Q3. Explain why the __init__() function is used. Give a suitable example.\n",
    "\n",
    "#Ans.: __init()__ is a constructor.\n",
    "# This is constructor is used to pass the data under class.\n",
    "class Television:\n",
    "    \n",
    "    def __init__(self, Brand, model, SSN_number, Type):\n",
    "        self.Brand = Brand\n",
    "        self.model = model\n",
    "        self.SSN_number = SSN_number\n",
    "        self.Type = Type\n",
    "        \n",
    "    def return_Entertainment_details(self):\n",
    "        return self.Brand, self.model, self.SSN_number, self.Type"
   ]
  },
  {
   "cell_type": "code",
   "execution_count": 11,
   "id": "c64253ec-6c76-48e1-9ad1-ed18b3bed4f1",
   "metadata": {},
   "outputs": [],
   "source": [
    "Check = Television(\"Samsung\", \"Neo series\", 112356897412, \"Google_Android\" )"
   ]
  },
  {
   "cell_type": "code",
   "execution_count": 12,
   "id": "b6df6bc5-7231-4c26-91af-23263e36eb60",
   "metadata": {},
   "outputs": [],
   "source": [
    "#Q4. Why self is used in OOPs?\n",
    "#Ans.: The self is used to represent the instance of the class.\n",
    "#With this keyword, you an access he attributes and methods of the class in python.\n",
    "#It binds the attributes with the given arguments."
   ]
  },
  {
   "cell_type": "code",
   "execution_count": 14,
   "id": "621dc920-c09a-4d69-85fb-51e86da96e5a",
   "metadata": {},
   "outputs": [],
   "source": [
    "#Q5. What is inheritance? Give an example for each type of inheritance.\n",
    "#Ans.:\n",
    "#Inheritance:\n",
    "#Inheritance is a mechanism in which one class acquires the property of another class.\n",
    "#Inheritance: There are 5 types of Inheritance:\n",
    "#Single Inheritance\n",
    "#Multiple Inheritance\n",
    "#Multilevel Inheeritance\n",
    "#Hierarchical Inheritance\n",
    "#Hybrid Inheritance"
   ]
  },
  {
   "cell_type": "code",
   "execution_count": 15,
   "id": "0a74d102-8faa-4f2e-b4d7-3ae41da222c1",
   "metadata": {},
   "outputs": [
    {
     "name": "stdout",
     "output_type": "stream",
     "text": [
      "This function is in parent class.\n",
      "This function is in child class.\n"
     ]
    }
   ],
   "source": [
    "#Single Inheritance:\n",
    "class Parent:\n",
    "    def Interact(self):\n",
    "        print(\"This function is in parent class.\")\n",
    "        \n",
    "#Derived Class\n",
    "\n",
    "class Child(Parent):\n",
    "    def Interact2(self):\n",
    "        print(\"This function is in child class.\")\n",
    "        \n",
    "#Driver's Code\n",
    "Output = Child()\n",
    "Output.Interact()\n",
    "Output.Interact2()"
   ]
  },
  {
   "cell_type": "code",
   "execution_count": 16,
   "id": "c765381f-a9c0-4345-a028-054be591a32a",
   "metadata": {},
   "outputs": [],
   "source": [
    "#Multiple Inheritance: When a class can be derived from more than one base class this type of inheritance is called Multiple Inhertiance.\n",
    "#In multiple inheritances, all the features of the base classes are inherited into the derived class.\n",
    "#Base Class1\n",
    "class Mother:\n",
    "    mothername = \"\"\n",
    "    \n",
    "    def mother(self):\n",
    "        print(self.mothername)\n",
    "        \n",
    "#Base Class2\n",
    "class Father:\n",
    "    fathername = \"\"\n",
    "    \n",
    "    def father(self):\n",
    "        print(self.fathername)\n",
    "        \n",
    "#Derived class\n",
    "class Son(Mother, Father):\n",
    "    def parent(self):\n",
    "        print(\"Father:\", self.fathername)\n",
    "        print(\"Mother:\", self.mothername)\n",
    "        \n",
    "#Driver's Code\n",
    "Relation = Son()\n",
    "Relation.fathername = \"RAM\"\n",
    "Relation.mothername = \"SITA\""
   ]
  },
  {
   "cell_type": "code",
   "execution_count": 17,
   "id": "943d9cb1-2b2d-4766-a83a-4fddf1ffe330",
   "metadata": {},
   "outputs": [
    {
     "name": "stdout",
     "output_type": "stream",
     "text": [
      "Dashrat\n",
      "Grandfather name: Dashrat\n",
      "Father name: RAM\n",
      "Son name: KUSH\n"
     ]
    }
   ],
   "source": [
    "#Multilevel Inheritance:\n",
    "#In multilevel inheritence, features of the base class and the derived class are further inherited into the new derived class.\n",
    "#This is similar to a relationship representing a child and a grandfather.\n",
    "#Base Class:\n",
    "class Grandfather:\n",
    "    \n",
    "    def __init__(self, grandfathername):\n",
    "        self.grandfathername = grandfathername\n",
    "        \n",
    "#Intermediate class\n",
    "class Father(Grandfather):\n",
    "    def __init__(self, fathername, grandfathername):\n",
    "        self.fathername = fathername\n",
    "    \n",
    "        #invoking constructor of Grandfather class\n",
    "        Grandfather.__init__(self, grandfathername)\n",
    "    \n",
    "#Derived class\n",
    "\n",
    "class Son(Father):\n",
    "    def __init__(self, sonname, fathername, grandfathername):\n",
    "        self.sonname = sonname\n",
    "    \n",
    "        #inoking contsrutor of Fathername class\n",
    "        Father.__init__(self, fathername, grandfathername)\n",
    "    \n",
    "    def print_name(self):\n",
    "        print(\"Grandfather name:\", self.grandfathername)\n",
    "        print(\"Father name:\", self.fathername)\n",
    "        print(\"Son name:\", self.sonname)\n",
    "        \n",
    "#Derived Code\n",
    "Family = Son(\"KUSH\", \"RAM\", \"Dashrat\")\n",
    "print(Family.grandfathername)\n",
    "Family.print_name()"
   ]
  },
  {
   "cell_type": "code",
   "execution_count": 18,
   "id": "05cad293-302b-4544-b10f-0639cb643cab",
   "metadata": {},
   "outputs": [
    {
     "name": "stdout",
     "output_type": "stream",
     "text": [
      "This function is in parent class.\n",
      "This function is in child 1.\n",
      "This function is in parent class.\n",
      "This functio is in child 2.\n"
     ]
    }
   ],
   "source": [
    "#Hierarchical Inheritance:\n",
    "#When more than one derived class are created from a single base this type of inheritance is called hierarchical inheritance.\n",
    "#In this program, we have a parent (bas) class and two child (derived) classes.\n",
    "\n",
    "#Base class\n",
    "class Parent:\n",
    "    def func1(self):\n",
    "        print(\"This function is in parent class.\")\n",
    "        \n",
    "#Derived class1\n",
    "\n",
    "class Child1(Parent):\n",
    "    def func2(self):\n",
    "        print(\"This function is in child 1.\")\n",
    "        \n",
    "#Derived class2\n",
    "\n",
    "class Child2(Parent):\n",
    "    def func3(self):\n",
    "        print(\"This functio is in child 2.\")\n",
    "        \n",
    "#Driver's code\n",
    "object1 = Child1()\n",
    "object2 = Child2()\n",
    "object1.func1()\n",
    "object1.func2()\n",
    "object2.func1()\n",
    "object2.func3()"
   ]
  },
  {
   "cell_type": "code",
   "execution_count": 19,
   "id": "091e0501-3734-4366-8a5d-a1f21a1d209c",
   "metadata": {},
   "outputs": [
    {
     "name": "stdout",
     "output_type": "stream",
     "text": [
      "This is College function.\n",
      "This is a Biology Proffesor.\n"
     ]
    }
   ],
   "source": [
    "#Hybrid Inheritance:\n",
    "\n",
    "#Inheritance consisting of multiple types of inheritance is called hybrid inheritance.\n",
    "\n",
    "class College:\n",
    "    def func1(self):\n",
    "        print(\"This is College function.\")\n",
    "        \n",
    "class Proffesor1(College):\n",
    "    def func2(self):\n",
    "        print(\"This is a Pysics Proffesor.\")\n",
    "        \n",
    "class Proffesor2(College):\n",
    "    def func3(self):\n",
    "        print(\"This is a Maths Proffesor.\")\n",
    "        \n",
    "class Proffesor3(Proffesor2, College):\n",
    "    def func4(self):\n",
    "        print(\"This is a Biology Proffesor.\")\n",
    "        \n",
    "#Driver's code\n",
    "object = Proffesor3()\n",
    "object.func1()\n",
    "object.func4()"
   ]
  },
  {
   "cell_type": "code",
   "execution_count": null,
   "id": "08cd613a-e07e-4028-9886-b8272b7ced1c",
   "metadata": {},
   "outputs": [],
   "source": []
  }
 ],
 "metadata": {
  "kernelspec": {
   "display_name": "Python 3 (ipykernel)",
   "language": "python",
   "name": "python3"
  },
  "language_info": {
   "codemirror_mode": {
    "name": "ipython",
    "version": 3
   },
   "file_extension": ".py",
   "mimetype": "text/x-python",
   "name": "python",
   "nbconvert_exporter": "python",
   "pygments_lexer": "ipython3",
   "version": "3.10.8"
  }
 },
 "nbformat": 4,
 "nbformat_minor": 5
}
